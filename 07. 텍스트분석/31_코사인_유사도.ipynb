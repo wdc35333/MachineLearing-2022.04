{
 "cells": [
  {
   "cell_type": "markdown",
   "id": "b9f4a12b",
   "metadata": {},
   "source": [
    "# 문서 유사도 - 코사인 유사도"
   ]
  },
  {
   "cell_type": "code",
   "execution_count": 4,
   "id": "a387ef35",
   "metadata": {},
   "outputs": [],
   "source": [
    "import numpy as np\n",
    "import matplotlib.pyplot as plt"
   ]
  },
  {
   "cell_type": "code",
   "execution_count": 5,
   "id": "2e7b6c90",
   "metadata": {},
   "outputs": [
    {
     "data": {
      "image/png": "[encoded data removed]",
      "text/plain": [
       "<Figure size 432x288 with 1 Axes>"
      ]
     },
     "metadata": {
      "needs_background": "light"
     },
     "output_type": "display_data"
    }
   ],
   "source": [
    "xs = np.linspace(0, 2 * np.pi, 200)\n",
    "cosx = np.cos(xs)\n",
    "sinx = np.sin(xs)\n",
    "\n",
    "plt.plot(xs, cosx, label = 'cosine')\n",
    "plt.plot(xs, sinx, label = 'sine')\n",
    "plt.xticks([0, np.pi/2, np.pi, 3*np.pi/2, 2*np.pi])\n",
    "plt.yticks([-1, 0, 1])\n",
    "plt.grid(), plt.legend()\n",
    "plt.show()"
   ]
  },
  {
   "cell_type": "code",
   "execution_count": 6,
   "id": "b931e5d6",
   "metadata": {},
   "outputs": [
    {
     "data": {
      "text/plain": [
       "(1.4142135623730951, 2.23606797749979, 1.4142135623730951)"
      ]
     },
     "execution_count": 6,
     "metadata": {},
     "output_type": "execute_result"
    }
   ],
   "source": [
    "v1, v2, v3 = np.array([1, 1, 0]), np.array([2, 1, 0]), np.array([0, 0, 1])\n",
    "v1_norm = np.sqrt(np.sum(np.square(v1)))\n",
    "v2_norm = np.sqrt(np.sum(np.square(v2)))\n",
    "v3_norm = np.sqrt(np.sum(np.square(v1)))\n",
    "v1_norm, v2_norm, v3_norm"
   ]
  },
  {
   "cell_type": "code",
   "execution_count": 7,
   "id": "8016580f",
   "metadata": {},
   "outputs": [
    {
     "data": {
      "text/plain": [
       "(0.9486832980505138, 0.0)"
      ]
     },
     "execution_count": 7,
     "metadata": {},
     "output_type": "execute_result"
    }
   ],
   "source": [
    "# v1과 v2의 유사도\n",
    "cos12 = np.dot(v1, v2) / (v1_norm * v2_norm)\n",
    "cos13 = np.dot(v1, v3) / (v1_norm * v3_norm)\n",
    "cos12, cos13"
   ]
  },
  {
   "cell_type": "code",
   "execution_count": 8,
   "id": "6c16c633",
   "metadata": {},
   "outputs": [],
   "source": [
    "def cos_similarity(v1, v2):\n",
    "    v1_norm = np.sqrt(np.sum(np.square(v1)))\n",
    "    v2_norm = np.sqrt(np.sum(np.square(v1)))\n",
    "    return np.dot(v1, v2) / (v1_norm * v2_norm)"
   ]
  },
  {
   "cell_type": "markdown",
   "id": "24b7380c",
   "metadata": {},
   "source": [
    "- 문장의 코사인 유사도"
   ]
  },
  {
   "cell_type": "code",
   "execution_count": 9,
   "id": "799b3971",
   "metadata": {},
   "outputs": [],
   "source": [
    "doc_list = ['if you take the blue pill, the story ends',\n",
    "           'if you take the red pill, you stay in wonderland',\n",
    "           'if you take the red pill, I show you how deep the rabbit hole goes']"
   ]
  },
  {
   "cell_type": "code",
   "execution_count": 22,
   "id": "471bb46d",
   "metadata": {},
   "outputs": [
    {
     "data": {
      "text/plain": [
       "array([[1, 0, 1, 0, 0, 0, 1, 0, 1, 0, 0, 0, 0, 1, 1, 2, 0, 1],\n",
       "       [0, 0, 0, 0, 0, 0, 1, 1, 1, 0, 1, 0, 1, 0, 1, 1, 1, 2],\n",
       "       [0, 1, 0, 1, 1, 1, 1, 0, 1, 1, 1, 1, 0, 0, 1, 2, 0, 2]])"
      ]
     },
     "execution_count": 22,
     "metadata": {},
     "output_type": "execute_result"
    }
   ],
   "source": [
    "from sklearn.feature_extraction.text import CountVectorizer, TfidfVectorizer\n",
    "cvect = CountVectorizer()\n",
    "doc_cv = cvect.fit_transform(doc_list)\n",
    "doc_cv.toarray()"
   ]
  },
  {
   "cell_type": "code",
   "execution_count": 23,
   "id": "87852571",
   "metadata": {},
   "outputs": [
    {
     "data": {
      "text/plain": [
       "array([1, 0, 1, 0, 0, 0, 1, 0, 1, 0, 0, 0, 0, 1, 1, 2, 0, 1])"
      ]
     },
     "execution_count": 23,
     "metadata": {},
     "output_type": "execute_result"
    }
   ],
   "source": [
    "d1, d2, d3 = doc_cv.toarray()\n",
    "d1"
   ]
  },
  {
   "cell_type": "code",
   "execution_count": 24,
   "id": "d0bec2c2",
   "metadata": {},
   "outputs": [
    {
     "name": "stdout",
     "output_type": "stream",
     "text": [
      "문장1 vs 문장2: 0.6364\n",
      "문장1 vs 문장3: 0.8182\n",
      "문장2 vs 문장3: 0.8333\n"
     ]
    }
   ],
   "source": [
    "print(f'문장1 vs 문장2: {cos_similarity(d1, d2):.4f}')\n",
    "print(f'문장1 vs 문장3: {cos_similarity(d1, d3):.4f}')\n",
    "print(f'문장2 vs 문장3: {cos_similarity(d2, d3):.4f}')"
   ]
  },
  {
   "cell_type": "code",
   "execution_count": 25,
   "id": "994cc796",
   "metadata": {},
   "outputs": [
    {
     "data": {
      "text/plain": [
       "array([[0.4155636 , 0.        , 0.4155636 , 0.        , 0.        ,\n",
       "        0.        , 0.24543856, 0.        , 0.24543856, 0.        ,\n",
       "        0.        , 0.        , 0.        , 0.4155636 , 0.24543856,\n",
       "        0.49087711, 0.        , 0.24543856],\n",
       "       [0.        , 0.        , 0.        , 0.        , 0.        ,\n",
       "        0.        , 0.23402865, 0.39624495, 0.23402865, 0.        ,\n",
       "        0.3013545 , 0.        , 0.39624495, 0.        , 0.23402865,\n",
       "        0.23402865, 0.39624495, 0.4680573 ],\n",
       "       [0.        , 0.30985601, 0.        , 0.30985601, 0.30985601,\n",
       "        0.30985601, 0.18300595, 0.        , 0.18300595, 0.30985601,\n",
       "        0.23565348, 0.30985601, 0.        , 0.        , 0.18300595,\n",
       "        0.3660119 , 0.        , 0.3660119 ]])"
      ]
     },
     "execution_count": 25,
     "metadata": {},
     "output_type": "execute_result"
    }
   ],
   "source": [
    "tvect = TfidfVectorizer()\n",
    "doc_tv = tvect.fit_transform(doc_list)\n",
    "doc_tv.toarray()"
   ]
  },
  {
   "cell_type": "code",
   "execution_count": 26,
   "id": "fc251abf",
   "metadata": {},
   "outputs": [
    {
     "name": "stdout",
     "output_type": "stream",
     "text": [
      "문장1 vs 문장2: 0.4021\n",
      "문장1 vs 문장3: 0.4043\n",
      "문장2 vs 문장3: 0.4565\n"
     ]
    }
   ],
   "source": [
    "d1, d2, d3 = doc_tv.toarray()\n",
    "print(f'문장1 vs 문장2: {cos_similarity(d1, d2):.4f}')\n",
    "print(f'문장1 vs 문장3: {cos_similarity(d1, d3):.4f}')\n",
    "print(f'문장2 vs 문장3: {cos_similarity(d2, d3):.4f}')"
   ]
  },
  {
   "cell_type": "markdown",
   "id": "1fb05135",
   "metadata": {},
   "source": [
    "- Scikit-learn 코사인 유사도"
   ]
  },
  {
   "cell_type": "code",
   "execution_count": 27,
   "id": "bb330694",
   "metadata": {},
   "outputs": [
    {
     "data": {
      "text/plain": [
       "array([[0.40207758]])"
      ]
     },
     "execution_count": 27,
     "metadata": {},
     "output_type": "execute_result"
    }
   ],
   "source": [
    "from sklearn.metrics.pairwise import cosine_similarity\n",
    "cosine_similarity([d1], [d2])"
   ]
  },
  {
   "cell_type": "code",
   "execution_count": 29,
   "id": "70ed1f3f",
   "metadata": {},
   "outputs": [
    {
     "data": {
      "text/plain": [
       "array([[1.        , 0.6092718 , 0.63960215],\n",
       "       [0.6092718 , 1.        , 0.68041382],\n",
       "       [0.63960215, 0.68041382, 1.        ]])"
      ]
     },
     "execution_count": 29,
     "metadata": {},
     "output_type": "execute_result"
    }
   ],
   "source": [
    "cosine_similarity(doc_cv)"
   ]
  },
  {
   "cell_type": "code",
   "execution_count": 30,
   "id": "4c343287",
   "metadata": {},
   "outputs": [
    {
     "data": {
      "text/plain": [
       "array([[1.        , 0.40207758, 0.40425045],\n",
       "       [0.40207758, 1.        , 0.45647296],\n",
       "       [0.40425045, 0.45647296, 1.        ]])"
      ]
     },
     "execution_count": 30,
     "metadata": {},
     "output_type": "execute_result"
    }
   ],
   "source": [
    "cosine_similarity(doc_tv, doc_tv)"
   ]
  },
  {
   "cell_type": "code",
   "execution_count": null,
   "id": "f3eb4423",
   "metadata": {},
   "outputs": [],
   "source": []
  }
 ],
 "metadata": {
  "kernelspec": {
   "display_name": "Python 3 (ipykernel)",
   "language": "python",
   "name": "python3"
  },
  "language_info": {
   "codemirror_mode": {
    "name": "ipython",
    "version": 3
   },
   "file_extension": ".py",
   "mimetype": "text/x-python",
   "name": "python",
   "nbconvert_exporter": "python",
   "pygments_lexer": "ipython3",
   "version": "3.9.7"
  }
 },
 "nbformat": 4,
 "nbformat_minor": 5
}
