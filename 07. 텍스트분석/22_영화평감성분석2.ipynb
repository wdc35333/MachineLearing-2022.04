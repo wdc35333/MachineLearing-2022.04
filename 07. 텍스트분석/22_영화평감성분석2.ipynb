{
 "cells": [
  {
   "cell_type": "markdown",
   "metadata": {
    "id": "p5cPJvXNpRsE"
   },
   "source": [
    "# 네이버 영화평 감성분석\n",
    "- Tokenizer 함수\n",
    "- TfidVectorizer + LogisticRegression"
   ]
  },
  {
   "cell_type": "code",
   "execution_count": 1,
   "metadata": {
    "id": "xQ0yWZkSonHe"
   },
   "outputs": [],
   "source": [
    "!pip install Konlpy > /dev/null"
   ]
  },
  {
   "cell_type": "code",
   "execution_count": 1,
   "metadata": {
    "id": "o9AvmHFfpwS_"
   },
   "outputs": [],
   "source": [
    "import numpy as np\n",
    "import pandas as pd\n",
    "import warnings\n",
    "warnings.filterwarnings('ignore')"
   ]
  },
  {
   "cell_type": "code",
   "execution_count": 2,
   "metadata": {
    "colab": {
     "base_uri": "https://localhost:8080/"
    },
    "id": "cv1YYg_Lp9lC",
    "outputId": "f41e6772-3cc3-4625-df4f-6e882c8538d6"
   },
   "outputs": [
    {
     "data": {
      "text/plain": [
       "((145393, 3), (48852, 3))"
      ]
     },
     "execution_count": 2,
     "metadata": {},
     "output_type": "execute_result"
    }
   ],
   "source": [
    "train_df = pd.read_csv('./data/naver_movie_train_전처리완료.csv', sep='\\t')\n",
    "test_df = pd.read_csv('./data/naver_movie_test_전처리완료.csv', sep='\\t')\n",
    "train_df.shape, test_df.shape"
   ]
  },
  {
   "cell_type": "code",
   "execution_count": 3,
   "metadata": {
    "colab": {
     "base_uri": "https://localhost:8080/",
     "height": 143
    },
    "id": "tr6mLWREuzbS",
    "outputId": "3127d98a-9644-4dd5-9096-84d961b641ce"
   },
   "outputs": [
    {
     "data": {
      "text/html": [
       "<div>\n",
       "<style scoped>\n",
       "    .dataframe tbody tr th:only-of-type {\n",
       "        vertical-align: middle;\n",
       "    }\n",
       "\n",
       "    .dataframe tbody tr th {\n",
       "        vertical-align: top;\n",
       "    }\n",
       "\n",
       "    .dataframe thead th {\n",
       "        text-align: right;\n",
       "    }\n",
       "</style>\n",
       "<table border=\"1\" class=\"dataframe\">\n",
       "  <thead>\n",
       "    <tr style=\"text-align: right;\">\n",
       "      <th></th>\n",
       "      <th>id</th>\n",
       "      <th>document</th>\n",
       "      <th>label</th>\n",
       "    </tr>\n",
       "  </thead>\n",
       "  <tbody>\n",
       "    <tr>\n",
       "      <th>0</th>\n",
       "      <td>9976970</td>\n",
       "      <td>아 더빙   진짜 짜증나네요 목소리</td>\n",
       "      <td>0</td>\n",
       "    </tr>\n",
       "    <tr>\n",
       "      <th>1</th>\n",
       "      <td>3819312</td>\n",
       "      <td>흠   포스터보고 초딩영화줄    오버연기조차 가볍지 않구나</td>\n",
       "      <td>1</td>\n",
       "    </tr>\n",
       "    <tr>\n",
       "      <th>2</th>\n",
       "      <td>10265843</td>\n",
       "      <td>너무재밓었다그래서보는것을추천한다</td>\n",
       "      <td>0</td>\n",
       "    </tr>\n",
       "  </tbody>\n",
       "</table>\n",
       "</div>"
      ],
      "text/plain": [
       "         id                           document  label\n",
       "0   9976970                아 더빙   진짜 짜증나네요 목소리      0\n",
       "1   3819312  흠   포스터보고 초딩영화줄    오버연기조차 가볍지 않구나      1\n",
       "2  10265843                  너무재밓었다그래서보는것을추천한다      0"
      ]
     },
     "execution_count": 3,
     "metadata": {},
     "output_type": "execute_result"
    }
   ],
   "source": [
    "train_df.head(3)"
   ]
  },
  {
   "cell_type": "markdown",
   "metadata": {
    "id": "IAVa66gdsHpk"
   },
   "source": [
    "- Tokenizer 함수 정의"
   ]
  },
  {
   "cell_type": "code",
   "execution_count": 4,
   "metadata": {
    "id": "0WS1Wzt0rMlD"
   },
   "outputs": [],
   "source": [
    "from konlpy.tag import Okt\n",
    "okt = Okt()"
   ]
  },
  {
   "cell_type": "code",
   "execution_count": 5,
   "metadata": {
    "id": "IMkSrQ-UsN9N"
   },
   "outputs": [],
   "source": [
    "stopwords = ['의','가','이','은','들','는','좀','잘','걍','과','도','를','으로','자','에','와','한','하다','을','ㅋㅋ','ㅠㅠ','ㅎㅎ']"
   ]
  },
  {
   "cell_type": "code",
   "execution_count": 6,
   "metadata": {
    "id": "jVea2_zUspUF"
   },
   "outputs": [],
   "source": [
    "def okt_tokenizer(text):\n",
    "    morphs = okt.morphs(text, stem = True)\n",
    "    tokens = [word for word in morphs if word not in stopwords]\n",
    "    return tokens"
   ]
  },
  {
   "cell_type": "code",
   "execution_count": 7,
   "metadata": {
    "colab": {
     "base_uri": "https://localhost:8080/"
    },
    "id": "OgnX_1uesr72",
    "outputId": "daf1f736-bcff-43e1-9a37-9fa7a69473ce"
   },
   "outputs": [
    {
     "data": {
      "text/plain": [
       "['열심히', '일', '당신', '주말', '엔', '여행', '떠나다', '보다', '.']"
      ]
     },
     "execution_count": 7,
     "metadata": {},
     "output_type": "execute_result"
    }
   ],
   "source": [
    "okt_tokenizer('열심히 일한 당신 주말엔 여행을 떠나봐요.')"
   ]
  },
  {
   "cell_type": "markdown",
   "metadata": {
    "id": "dmcAUKzxt6Aw"
   },
   "source": [
    "- Pipeline으로 피쳐 변환과 분류를 동시에"
   ]
  },
  {
   "cell_type": "code",
   "execution_count": 8,
   "metadata": {
    "id": "IyDxBv3lsr3E"
   },
   "outputs": [],
   "source": [
    "from sklearn.feature_extraction.text import TfidfVectorizer\n",
    "from sklearn.linear_model import LogisticRegression\n",
    "from sklearn.pipeline import Pipeline"
   ]
  },
  {
   "cell_type": "code",
   "execution_count": 9,
   "metadata": {
    "colab": {
     "base_uri": "https://localhost:8080/"
    },
    "id": "1inY0qL7sr0y",
    "outputId": "acf571ea-8162-43eb-ea90-24740d003f9b"
   },
   "outputs": [
    {
     "name": "stdout",
     "output_type": "stream",
     "text": [
      "CPU times: user 4min 27s, sys: 6.43 s, total: 4min 34s\n",
      "Wall time: 4min 47s\n"
     ]
    },
    {
     "data": {
      "text/plain": [
       "Pipeline(steps=[('TFIDF',\n",
       "                 TfidfVectorizer(tokenizer=<function okt_tokenizer at 0x7fa429521790>)),\n",
       "                ('LR', LogisticRegression(random_state=2022))])"
      ]
     },
     "execution_count": 9,
     "metadata": {},
     "output_type": "execute_result"
    }
   ],
   "source": [
    "pipeline = Pipeline([\n",
    "  ('TFIDF', TfidfVectorizer(tokenizer = okt_tokenizer)),\n",
    "  ('LR', LogisticRegression(random_state = 2022))\n",
    "])\n",
    "%time pipeline.fit(train_df.document, train_df.label)"
   ]
  },
  {
   "cell_type": "code",
   "execution_count": 10,
   "metadata": {
    "colab": {
     "base_uri": "https://localhost:8080/"
    },
    "id": "zQR0oW4bsryp",
    "outputId": "24954d9c-7526-4f68-8774-199d38c161ff"
   },
   "outputs": [
    {
     "data": {
      "text/plain": [
       "0.8424629493163023"
      ]
     },
     "execution_count": 10,
     "metadata": {},
     "output_type": "execute_result"
    }
   ],
   "source": [
    "pipeline.score(test_df.document, test_df.label)"
   ]
  },
  {
   "cell_type": "markdown",
   "metadata": {
    "id": "B_13oqpmw4iu"
   },
   "source": [
    "- 실제 데이터 테스트"
   ]
  },
  {
   "cell_type": "code",
   "execution_count": 11,
   "metadata": {
    "id": "5SwgE1-5srwA"
   },
   "outputs": [],
   "source": [
    "import re\n",
    "reviews = ['모든 국민이 봤으면 하는 영화입니다.',\n",
    "           '생각보다 지루하고 별로였네요... 보면서 좀 졸았습니다.']\n",
    "reviews = map(lambda x: re.sub('[^가-힣]',' ', x), reviews)"
   ]
  },
  {
   "cell_type": "code",
   "execution_count": 12,
   "metadata": {
    "colab": {
     "base_uri": "https://localhost:8080/"
    },
    "id": "NLDZX8FUxuSc",
    "outputId": "ab5d9720-5ff5-4e3b-c08e-a0ecbdd76af8"
   },
   "outputs": [
    {
     "data": {
      "text/plain": [
       "array([1, 0])"
      ]
     },
     "execution_count": 12,
     "metadata": {},
     "output_type": "execute_result"
    }
   ],
   "source": [
    "pipeline.predict(reviews)"
   ]
  },
  {
   "cell_type": "markdown",
   "metadata": {
    "id": "clAfJW2xyyZm"
   },
   "source": [
    "- 최적 파라메터 찾기\n",
    "  - 매 시행시마다 한글 형태소 분석을 하기 때문에 시간이 너무 오래 걸림\n",
    "  - 최적 파라메터를 찾으려고 하면 한글 형태소 분석을 한 데이터로 할 것"
   ]
  },
  {
   "cell_type": "code",
   "execution_count": 13,
   "metadata": {
    "id": "qFev4McQyd7G"
   },
   "outputs": [],
   "source": [
    "from sklearn.model_selection import GridSearchCV\n",
    "params = {\n",
    "    'TFIDF__ngram_range': [(1,1),(1,2)],\n",
    "    'TFIDF__max_df': [0.95, 0.98],\n",
    "    'LR__C': [1, 5]\n",
    "}"
   ]
  },
  {
   "cell_type": "markdown",
   "metadata": {
    "id": "H0dJ59Ff3GJK"
   },
   "source": [
    "- CountVectorizer 사례에서 찾은 최적의 파라메터로 평가"
   ]
  },
  {
   "cell_type": "code",
   "execution_count": 14,
   "metadata": {
    "colab": {
     "base_uri": "https://localhost:8080/"
    },
    "id": "5Qjk53ckzRda",
    "outputId": "63978332-d5c7-4e9d-bc1a-10f31e50c2a9"
   },
   "outputs": [
    {
     "name": "stdout",
     "output_type": "stream",
     "text": [
      "CPU times: user 5min 31s, sys: 10.6 s, total: 5min 42s\n",
      "Wall time: 5min 24s\n"
     ]
    },
    {
     "data": {
      "text/plain": [
       "Pipeline(steps=[('TFIDF',\n",
       "                 TfidfVectorizer(max_df=0.95, ngram_range=(1, 2),\n",
       "                                 tokenizer=<function okt_tokenizer at 0x7fa429521790>)),\n",
       "                ('LR', LogisticRegression(random_state=2022))])"
      ]
     },
     "execution_count": 14,
     "metadata": {},
     "output_type": "execute_result"
    }
   ],
   "source": [
    "pipeline = Pipeline([\n",
    "  ('TFIDF', TfidfVectorizer(tokenizer = okt_tokenizer, max_df = 0.95, ngram_range = (1,2))),\n",
    "  ('LR', LogisticRegression(random_state = 2022))\n",
    "])\n",
    "%time pipeline.fit(train_df.document, train_df.label)"
   ]
  },
  {
   "cell_type": "code",
   "execution_count": 15,
   "metadata": {
    "id": "6aGbLJxL3SQl"
   },
   "outputs": [
    {
     "data": {
      "text/plain": [
       "0.8583681323180218"
      ]
     },
     "execution_count": 15,
     "metadata": {},
     "output_type": "execute_result"
    }
   ],
   "source": [
    "pipeline.score(test_df.document, test_df.label)"
   ]
  },
  {
   "cell_type": "code",
   "execution_count": null,
   "metadata": {
    "id": "hcuJnAML40tu"
   },
   "outputs": [],
   "source": []
  }
 ],
 "metadata": {
  "colab": {
   "collapsed_sections": [],
   "name": "22_영화평감성분석2.ipynb",
   "provenance": []
  },
  "kernelspec": {
   "display_name": "Python 3 (ipykernel)",
   "language": "python",
   "name": "python3"
  },
  "language_info": {
   "codemirror_mode": {
    "name": "ipython",
    "version": 3
   },
   "file_extension": ".py",
   "mimetype": "text/x-python",
   "name": "python",
   "nbconvert_exporter": "python",
   "pygments_lexer": "ipython3",
   "version": "3.9.7"
  }
 },
 "nbformat": 4,
 "nbformat_minor": 1
}
