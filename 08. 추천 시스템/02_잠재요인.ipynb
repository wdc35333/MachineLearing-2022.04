{
 "cells": [
  {
   "cell_type": "markdown",
   "id": "829dfe0b",
   "metadata": {},
   "source": [
    "# 잠재요인 협업 필터링 - SVD 활용"
   ]
  },
  {
   "cell_type": "code",
   "execution_count": 5,
   "id": "b43fc205",
   "metadata": {},
   "outputs": [
    {
     "data": {
      "text/html": [
       "<div>\n",
       "<style scoped>\n",
       "    .dataframe tbody tr th:only-of-type {\n",
       "        vertical-align: middle;\n",
       "    }\n",
       "\n",
       "    .dataframe tbody tr th {\n",
       "        vertical-align: top;\n",
       "    }\n",
       "\n",
       "    .dataframe thead th {\n",
       "        text-align: right;\n",
       "    }\n",
       "</style>\n",
       "<table border=\"1\" class=\"dataframe\">\n",
       "  <thead>\n",
       "    <tr style=\"text-align: right;\">\n",
       "      <th></th>\n",
       "      <th>userId</th>\n",
       "      <th>movieId</th>\n",
       "      <th>rating</th>\n",
       "      <th>timestamp</th>\n",
       "    </tr>\n",
       "  </thead>\n",
       "  <tbody>\n",
       "    <tr>\n",
       "      <th>0</th>\n",
       "      <td>1</td>\n",
       "      <td>1</td>\n",
       "      <td>4.0</td>\n",
       "      <td>964982703</td>\n",
       "    </tr>\n",
       "    <tr>\n",
       "      <th>1</th>\n",
       "      <td>1</td>\n",
       "      <td>3</td>\n",
       "      <td>4.0</td>\n",
       "      <td>964981247</td>\n",
       "    </tr>\n",
       "    <tr>\n",
       "      <th>2</th>\n",
       "      <td>1</td>\n",
       "      <td>6</td>\n",
       "      <td>4.0</td>\n",
       "      <td>964982224</td>\n",
       "    </tr>\n",
       "    <tr>\n",
       "      <th>3</th>\n",
       "      <td>1</td>\n",
       "      <td>47</td>\n",
       "      <td>5.0</td>\n",
       "      <td>964983815</td>\n",
       "    </tr>\n",
       "    <tr>\n",
       "      <th>4</th>\n",
       "      <td>1</td>\n",
       "      <td>50</td>\n",
       "      <td>5.0</td>\n",
       "      <td>964982931</td>\n",
       "    </tr>\n",
       "  </tbody>\n",
       "</table>\n",
       "</div>"
      ],
      "text/plain": [
       "   userId  movieId  rating  timestamp\n",
       "0       1        1     4.0  964982703\n",
       "1       1        3     4.0  964981247\n",
       "2       1        6     4.0  964982224\n",
       "3       1       47     5.0  964983815\n",
       "4       1       50     5.0  964982931"
      ]
     },
     "execution_count": 5,
     "metadata": {},
     "output_type": "execute_result"
    }
   ],
   "source": [
    "import pandas as pd\n",
    "\n",
    "ratings = pd.read_csv(\"./data/ratings.csv\")\n",
    "ratings.head()"
   ]
  },
  {
   "cell_type": "code",
   "execution_count": 6,
   "id": "e8911135",
   "metadata": {},
   "outputs": [
    {
     "data": {
      "text/plain": [
       "(100836, 4)"
      ]
     },
     "execution_count": 6,
     "metadata": {},
     "output_type": "execute_result"
    }
   ],
   "source": [
    "ratings.shape"
   ]
  },
  {
   "cell_type": "code",
   "execution_count": 8,
   "id": "f81956e3",
   "metadata": {},
   "outputs": [
    {
     "data": {
      "text/plain": [
       "(610, 9724)"
      ]
     },
     "execution_count": 8,
     "metadata": {},
     "output_type": "execute_result"
    }
   ],
   "source": [
    "# 사용자수, 영화수\n",
    "ratings.userId.nunique(), ratings.movieId.nunique()"
   ]
  },
  {
   "cell_type": "code",
   "execution_count": 9,
   "id": "037e0d1b",
   "metadata": {},
   "outputs": [],
   "source": [
    "from surprise import SVD, Reader\n",
    "from surprise.dataset import DatasetAutoFolds\n",
    "\n",
    "reader = Reader(line_format = 'user item rating timestamp', sep = ',', rating_scale=(0.5, 5))\n",
    "data_folds = DatasetAutoFolds('./data/ratings_noh.csv', reader = reader)"
   ]
  },
  {
   "cell_type": "code",
   "execution_count": 10,
   "id": "b4c03263",
   "metadata": {},
   "outputs": [],
   "source": [
    "# 전체 데이터를 학습 데이터로 사용\n",
    "trainset = data_folds.build_full_trainset()"
   ]
  },
  {
   "cell_type": "code",
   "execution_count": 13,
   "id": "052e5cfa",
   "metadata": {},
   "outputs": [
    {
     "data": {
      "text/plain": [
       "<surprise.prediction_algorithms.matrix_factorization.SVD at 0x7f8a3b6221c0>"
      ]
     },
     "execution_count": 13,
     "metadata": {},
     "output_type": "execute_result"
    }
   ],
   "source": [
    "# 모델 생성 및 학습\n",
    "model = SVD(n_epochs = 20, n_factors = 50, random_state = 2022)\n",
    "model.fit(trainset)"
   ]
  },
  {
   "cell_type": "markdown",
   "id": "b0f4c6b5",
   "metadata": {},
   "source": [
    "- 사용자 Id: 9, 영화 Id: 42 (Dead Presidents (1995))"
   ]
  },
  {
   "cell_type": "code",
   "execution_count": 18,
   "id": "0d190e3a",
   "metadata": {},
   "outputs": [
    {
     "data": {
      "text/html": [
       "<div>\n",
       "<style scoped>\n",
       "    .dataframe tbody tr th:only-of-type {\n",
       "        vertical-align: middle;\n",
       "    }\n",
       "\n",
       "    .dataframe tbody tr th {\n",
       "        vertical-align: top;\n",
       "    }\n",
       "\n",
       "    .dataframe thead th {\n",
       "        text-align: right;\n",
       "    }\n",
       "</style>\n",
       "<table border=\"1\" class=\"dataframe\">\n",
       "  <thead>\n",
       "    <tr style=\"text-align: right;\">\n",
       "      <th></th>\n",
       "      <th>movieId</th>\n",
       "      <th>title</th>\n",
       "      <th>genres</th>\n",
       "    </tr>\n",
       "  </thead>\n",
       "  <tbody>\n",
       "    <tr>\n",
       "      <th>35</th>\n",
       "      <td>39</td>\n",
       "      <td>Clueless (1995)</td>\n",
       "      <td>Comedy|Romance</td>\n",
       "    </tr>\n",
       "    <tr>\n",
       "      <th>36</th>\n",
       "      <td>40</td>\n",
       "      <td>Cry, the Beloved Country (1995)</td>\n",
       "      <td>Drama</td>\n",
       "    </tr>\n",
       "    <tr>\n",
       "      <th>37</th>\n",
       "      <td>41</td>\n",
       "      <td>Richard III (1995)</td>\n",
       "      <td>Drama|War</td>\n",
       "    </tr>\n",
       "    <tr>\n",
       "      <th>38</th>\n",
       "      <td>42</td>\n",
       "      <td>Dead Presidents (1995)</td>\n",
       "      <td>Action|Crime|Drama</td>\n",
       "    </tr>\n",
       "    <tr>\n",
       "      <th>39</th>\n",
       "      <td>43</td>\n",
       "      <td>Restoration (1995)</td>\n",
       "      <td>Drama</td>\n",
       "    </tr>\n",
       "  </tbody>\n",
       "</table>\n",
       "</div>"
      ],
      "text/plain": [
       "    movieId                            title              genres\n",
       "35       39                  Clueless (1995)      Comedy|Romance\n",
       "36       40  Cry, the Beloved Country (1995)               Drama\n",
       "37       41               Richard III (1995)           Drama|War\n",
       "38       42           Dead Presidents (1995)  Action|Crime|Drama\n",
       "39       43               Restoration (1995)               Drama"
      ]
     },
     "execution_count": 18,
     "metadata": {},
     "output_type": "execute_result"
    }
   ],
   "source": [
    "# 영화 정보\n",
    "mdf = pd.read_csv('./data/movies.csv')\n",
    "mdf.head(40).tail(5)"
   ]
  },
  {
   "cell_type": "code",
   "execution_count": 24,
   "id": "49331a42",
   "metadata": {},
   "outputs": [
    {
     "data": {
      "text/plain": [
       "0"
      ]
     },
     "execution_count": 24,
     "metadata": {},
     "output_type": "execute_result"
    }
   ],
   "source": [
    "# 사용자 9번이 42번 영화를 보았는지 확인\n",
    "movieIds = ratings[ratings.userId == 9]['movieId']\n",
    "movieIds[movieIds == 42].count()"
   ]
  },
  {
   "cell_type": "code",
   "execution_count": 28,
   "id": "9f430e79",
   "metadata": {},
   "outputs": [
    {
     "name": "stdout",
     "output_type": "stream",
     "text": [
      "user: 9          item: 42         r_ui = None   est = 3.25   {'was_impossible': False}\n"
     ]
    }
   ],
   "source": [
    "# 사용자 9번의 42번 영화에 대한 예상 평점\n",
    "uid, mid = str(9), str(42)\n",
    "pred = model.predict(uid, mid, verbose = True)"
   ]
  },
  {
   "cell_type": "code",
   "execution_count": 29,
   "id": "4791d1ef",
   "metadata": {},
   "outputs": [
    {
     "data": {
      "text/plain": [
       "Prediction(uid='9', iid='42', r_ui=None, est=3.2499243773395388, details={'was_impossible': False})"
      ]
     },
     "execution_count": 29,
     "metadata": {},
     "output_type": "execute_result"
    }
   ],
   "source": [
    "pred"
   ]
  },
  {
   "cell_type": "markdown",
   "id": "77186576",
   "metadata": {},
   "source": [
    "- 사용자 9번이 보지 않은 영화중에서 예상점수가 가장 높은 Top 10"
   ]
  },
  {
   "cell_type": "code",
   "execution_count": 30,
   "id": "42f1ee33",
   "metadata": {},
   "outputs": [
    {
     "data": {
      "text/plain": [
       "(46, 9696)"
      ]
     },
     "execution_count": 30,
     "metadata": {},
     "output_type": "execute_result"
    }
   ],
   "source": [
    "seen_movies = ratings[ratings.userId == 9]['movieId'].tolist()\n",
    "total_movies = mdf.movieId.tolist()\n",
    "unseen_movies = [movie for movie in total_movies if movie not in seen_movies]\n",
    "len(seen_movies), len(unseen_movies)"
   ]
  },
  {
   "cell_type": "code",
   "execution_count": 31,
   "id": "4c7d7aec",
   "metadata": {},
   "outputs": [
    {
     "data": {
      "text/plain": [
       "[Prediction(uid='9', iid='1', r_ui=None, est=3.7029223474247126, details={'was_impossible': False}),\n",
       " Prediction(uid='9', iid='2', r_ui=None, est=3.2274451421980417, details={'was_impossible': False}),\n",
       " Prediction(uid='9', iid='3', r_ui=None, est=3.0342513115122123, details={'was_impossible': False}),\n",
       " Prediction(uid='9', iid='4', r_ui=None, est=2.661778597408914, details={'was_impossible': False}),\n",
       " Prediction(uid='9', iid='5', r_ui=None, est=2.689490348191407, details={'was_impossible': False})]"
      ]
     },
     "execution_count": 31,
     "metadata": {},
     "output_type": "execute_result"
    }
   ],
   "source": [
    "uid = str(9)\n",
    "# predictions = [model.predict(uid, str(mid)) for mid in unseen_movies]\n",
    "predictions = []\n",
    "for mid in unseen_movies:\n",
    "    pred = model.predict(uid, str(mid))\n",
    "    predictions.append(pred)\n",
    "predictions[:5]"
   ]
  },
  {
   "cell_type": "code",
   "execution_count": 34,
   "id": "cbd4a244",
   "metadata": {},
   "outputs": [],
   "source": [
    "def sortkey_est(pred):\n",
    "    return pred.est"
   ]
  },
  {
   "cell_type": "code",
   "execution_count": 35,
   "id": "00227694",
   "metadata": {},
   "outputs": [
    {
     "data": {
      "text/plain": [
       "[Prediction(uid='9', iid='318', r_ui=None, est=4.070330794979969, details={'was_impossible': False}),\n",
       " Prediction(uid='9', iid='1217', r_ui=None, est=4.063731956995098, details={'was_impossible': False}),\n",
       " Prediction(uid='9', iid='1261', r_ui=None, est=4.051908410348555, details={'was_impossible': False}),\n",
       " Prediction(uid='9', iid='1204', r_ui=None, est=4.0227662213503805, details={'was_impossible': False}),\n",
       " Prediction(uid='9', iid='3275', r_ui=None, est=4.011500870494227, details={'was_impossible': False})]"
      ]
     },
     "execution_count": 35,
     "metadata": {},
     "output_type": "execute_result"
    }
   ],
   "source": [
    "predictions.sort(key = sortkey_est, reverse = True)\n",
    "predictions[:5]"
   ]
  },
  {
   "cell_type": "code",
   "execution_count": 40,
   "id": "7e7fbf6e",
   "metadata": {},
   "outputs": [],
   "source": [
    "top_movie_ids = [int(pred.iid) for pred in predictions[:10]]\n",
    "top_movie_ratings = [pred.est for pred in predictions[:10]]\n",
    "top_movie_titles = [mdf[mdf.movieId == mid]['title'] for mid in top_movie_ids]"
   ]
  },
  {
   "cell_type": "code",
   "execution_count": 41,
   "id": "4c2ef61d",
   "metadata": {},
   "outputs": [
    {
     "data": {
      "text/html": [
       "<div>\n",
       "<style scoped>\n",
       "    .dataframe tbody tr th:only-of-type {\n",
       "        vertical-align: middle;\n",
       "    }\n",
       "\n",
       "    .dataframe tbody tr th {\n",
       "        vertical-align: top;\n",
       "    }\n",
       "\n",
       "    .dataframe thead th {\n",
       "        text-align: right;\n",
       "    }\n",
       "</style>\n",
       "<table border=\"1\" class=\"dataframe\">\n",
       "  <thead>\n",
       "    <tr style=\"text-align: right;\">\n",
       "      <th></th>\n",
       "      <th>영화명</th>\n",
       "      <th>예상평점</th>\n",
       "    </tr>\n",
       "    <tr>\n",
       "      <th>mdf_index</th>\n",
       "      <th></th>\n",
       "      <th></th>\n",
       "    </tr>\n",
       "  </thead>\n",
       "  <tbody>\n",
       "    <tr>\n",
       "      <th>0</th>\n",
       "      <td>277    Shawshank Redemption, The (1994)\n",
       "Name: ...</td>\n",
       "      <td>4.070331</td>\n",
       "    </tr>\n",
       "    <tr>\n",
       "      <th>1</th>\n",
       "      <td>918    Ran (1985)\n",
       "Name: title, dtype: object</td>\n",
       "      <td>4.063732</td>\n",
       "    </tr>\n",
       "    <tr>\n",
       "      <th>2</th>\n",
       "      <td>960    Evil Dead II (Dead by Dawn) (1987)\n",
       "Name...</td>\n",
       "      <td>4.051908</td>\n",
       "    </tr>\n",
       "    <tr>\n",
       "      <th>3</th>\n",
       "      <td>906    Lawrence of Arabia (1962)\n",
       "Name: title, ...</td>\n",
       "      <td>4.022766</td>\n",
       "    </tr>\n",
       "    <tr>\n",
       "      <th>4</th>\n",
       "      <td>2462    Boondock Saints, The (2000)\n",
       "Name: titl...</td>\n",
       "      <td>4.011501</td>\n",
       "    </tr>\n",
       "    <tr>\n",
       "      <th>5</th>\n",
       "      <td>3622    Amelie (Fabuleux destin d'Amélie Poula...</td>\n",
       "      <td>3.999696</td>\n",
       "    </tr>\n",
       "    <tr>\n",
       "      <th>6</th>\n",
       "      <td>9071    Spotlight (2015)\n",
       "Name: title, dtype: o...</td>\n",
       "      <td>3.985348</td>\n",
       "    </tr>\n",
       "    <tr>\n",
       "      <th>7</th>\n",
       "      <td>1258    Boogie Nights (1997)\n",
       "Name: title, dtyp...</td>\n",
       "      <td>3.979885</td>\n",
       "    </tr>\n",
       "    <tr>\n",
       "      <th>8</th>\n",
       "      <td>46    Usual Suspects, The (1995)\n",
       "Name: title, ...</td>\n",
       "      <td>3.978625</td>\n",
       "    </tr>\n",
       "    <tr>\n",
       "      <th>9</th>\n",
       "      <td>680    Philadelphia Story, The (1940)\n",
       "Name: ti...</td>\n",
       "      <td>3.978415</td>\n",
       "    </tr>\n",
       "  </tbody>\n",
       "</table>\n",
       "</div>"
      ],
      "text/plain": [
       "                                                         영화명      예상평점\n",
       "mdf_index                                                             \n",
       "0          277    Shawshank Redemption, The (1994)\n",
       "Name: ...  4.070331\n",
       "1               918    Ran (1985)\n",
       "Name: title, dtype: object  4.063732\n",
       "2          960    Evil Dead II (Dead by Dawn) (1987)\n",
       "Name...  4.051908\n",
       "3          906    Lawrence of Arabia (1962)\n",
       "Name: title, ...  4.022766\n",
       "4          2462    Boondock Saints, The (2000)\n",
       "Name: titl...  4.011501\n",
       "5          3622    Amelie (Fabuleux destin d'Amélie Poula...  3.999696\n",
       "6          9071    Spotlight (2015)\n",
       "Name: title, dtype: o...  3.985348\n",
       "7          1258    Boogie Nights (1997)\n",
       "Name: title, dtyp...  3.979885\n",
       "8          46    Usual Suspects, The (1995)\n",
       "Name: title, ...  3.978625\n",
       "9          680    Philadelphia Story, The (1940)\n",
       "Name: ti...  3.978415"
      ]
     },
     "execution_count": 41,
     "metadata": {},
     "output_type": "execute_result"
    }
   ],
   "source": [
    "top_df = pd.DataFrame({\n",
    "    '영화명': top_movie_titles,\n",
    "    '예상평점': top_movie_ratings\n",
    "})\n",
    "top_df.index.name = 'mdf_index'\n",
    "top_df"
   ]
  },
  {
   "cell_type": "code",
   "execution_count": null,
   "id": "6f9d8824",
   "metadata": {},
   "outputs": [],
   "source": []
  }
 ],
 "metadata": {
  "kernelspec": {
   "display_name": "Python 3 (ipykernel)",
   "language": "python",
   "name": "python3"
  },
  "language_info": {
   "codemirror_mode": {
    "name": "ipython",
    "version": 3
   },
   "file_extension": ".py",
   "mimetype": "text/x-python",
   "name": "python",
   "nbconvert_exporter": "python",
   "pygments_lexer": "ipython3",
   "version": "3.9.7"
  }
 },
 "nbformat": 4,
 "nbformat_minor": 5
}
