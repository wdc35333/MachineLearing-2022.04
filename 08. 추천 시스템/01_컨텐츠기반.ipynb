{
 "cells": [
  {
   "cell_type": "markdown",
   "id": "b576ea51",
   "metadata": {},
   "source": [
    "# 컨텐츠 기반 필터링(Content-based Filtering)"
   ]
  },
  {
   "cell_type": "code",
   "execution_count": 1,
   "id": "1b77a122",
   "metadata": {},
   "outputs": [],
   "source": [
    "import numpy as np\n",
    "import pandas as pd"
   ]
  },
  {
   "cell_type": "code",
   "execution_count": 2,
   "id": "d41ec433",
   "metadata": {},
   "outputs": [
    {
     "data": {
      "text/html": [
       "<div>\n",
       "<style scoped>\n",
       "    .dataframe tbody tr th:only-of-type {\n",
       "        vertical-align: middle;\n",
       "    }\n",
       "\n",
       "    .dataframe tbody tr th {\n",
       "        vertical-align: top;\n",
       "    }\n",
       "\n",
       "    .dataframe thead th {\n",
       "        text-align: right;\n",
       "    }\n",
       "</style>\n",
       "<table border=\"1\" class=\"dataframe\">\n",
       "  <thead>\n",
       "    <tr style=\"text-align: right;\">\n",
       "      <th></th>\n",
       "      <th>user-id</th>\n",
       "      <th>movie-id</th>\n",
       "      <th>rating</th>\n",
       "      <th>timestamp</th>\n",
       "    </tr>\n",
       "  </thead>\n",
       "  <tbody>\n",
       "    <tr>\n",
       "      <th>0</th>\n",
       "      <td>196</td>\n",
       "      <td>242</td>\n",
       "      <td>3.0</td>\n",
       "      <td>881250949</td>\n",
       "    </tr>\n",
       "    <tr>\n",
       "      <th>1</th>\n",
       "      <td>186</td>\n",
       "      <td>302</td>\n",
       "      <td>3.0</td>\n",
       "      <td>891717742</td>\n",
       "    </tr>\n",
       "    <tr>\n",
       "      <th>2</th>\n",
       "      <td>22</td>\n",
       "      <td>377</td>\n",
       "      <td>1.0</td>\n",
       "      <td>878887116</td>\n",
       "    </tr>\n",
       "    <tr>\n",
       "      <th>3</th>\n",
       "      <td>244</td>\n",
       "      <td>51</td>\n",
       "      <td>2.0</td>\n",
       "      <td>880606923</td>\n",
       "    </tr>\n",
       "    <tr>\n",
       "      <th>4</th>\n",
       "      <td>166</td>\n",
       "      <td>346</td>\n",
       "      <td>1.0</td>\n",
       "      <td>886397596</td>\n",
       "    </tr>\n",
       "  </tbody>\n",
       "</table>\n",
       "</div>"
      ],
      "text/plain": [
       "  user-id movie-id  rating  timestamp\n",
       "0     196      242     3.0  881250949\n",
       "1     186      302     3.0  891717742\n",
       "2      22      377     1.0  878887116\n",
       "3     244       51     2.0  880606923\n",
       "4     166      346     1.0  886397596"
      ]
     },
     "execution_count": 2,
     "metadata": {},
     "output_type": "execute_result"
    }
   ],
   "source": [
    "from surprise import Dataset\n",
    "data = Dataset.load_builtin('ml-100k', prompt = False)\n",
    "df = pd.DataFrame(data.raw_ratings, columns = ['user-id', 'movie-id', 'rating', 'timestamp'])\n",
    "df.head()"
   ]
  },
  {
   "cell_type": "code",
   "execution_count": 3,
   "id": "3c5ee2eb",
   "metadata": {},
   "outputs": [
    {
     "data": {
      "text/plain": [
       "(100000, 4)"
      ]
     },
     "execution_count": 3,
     "metadata": {},
     "output_type": "execute_result"
    }
   ],
   "source": [
    "df.shape"
   ]
  },
  {
   "cell_type": "markdown",
   "id": "664c02d5",
   "metadata": {},
   "source": [
    "### 1. Adjacent Matrix 생성\n",
    "- 행은 사용자\n",
    "- 열은 영화\n",
    "- 내용은 평점"
   ]
  },
  {
   "cell_type": "code",
   "execution_count": 4,
   "id": "9404fdd8",
   "metadata": {},
   "outputs": [
    {
     "data": {
      "text/plain": [
       "(array([        1,         1,         1, 874724710]),\n",
       " array([      943,      1682,         5, 893286638]))"
      ]
     },
     "execution_count": 4,
     "metadata": {},
     "output_type": "execute_result"
    }
   ],
   "source": [
    "raw_data = np.array(data.raw_ratings, dtype = int)\n",
    "np.min(raw_data, axis=0),np.max(raw_data, axis=0)"
   ]
  },
  {
   "cell_type": "code",
   "execution_count": 5,
   "id": "99e9e5bf",
   "metadata": {},
   "outputs": [
    {
     "data": {
      "text/plain": [
       "array([[      195,       241,         3, 881250949],\n",
       "       [      185,       301,         3, 891717742],\n",
       "       [       21,       376,         1, 878887116],\n",
       "       [      243,        50,         2, 880606923],\n",
       "       [      165,       345,         1, 886397596]])"
      ]
     },
     "execution_count": 5,
     "metadata": {},
     "output_type": "execute_result"
    }
   ],
   "source": [
    "# user-id, movie-id가 -부터 시작하도록 만들어 줌\n",
    "raw_data[:, :2] -= 1\n",
    "raw_data[:5]"
   ]
  },
  {
   "cell_type": "code",
   "execution_count": 6,
   "id": "048c143f",
   "metadata": {},
   "outputs": [
    {
     "data": {
      "text/plain": [
       "(943, 1682)"
      ]
     },
     "execution_count": 6,
     "metadata": {},
     "output_type": "execute_result"
    }
   ],
   "source": [
    "# 행, 열의 갯수\n",
    "nrows = df['user-id'].nunique()      # 행의 갯수 = 사용자 수\n",
    "ncols = df['movie-id'].nunique()     # 열의 갯수 = 영화 갯수\n",
    "nrows, ncols"
   ]
  },
  {
   "cell_type": "markdown",
   "id": "14d65bf3",
   "metadata": {},
   "source": [
    "#### 1) 본 영화/ 안 본 영화로만 구분, 0/1"
   ]
  },
  {
   "cell_type": "code",
   "execution_count": 7,
   "id": "f2d9bee5",
   "metadata": {},
   "outputs": [
    {
     "data": {
      "text/plain": [
       "array([[1, 1, 1, ..., 0, 0, 0],\n",
       "       [1, 0, 0, ..., 0, 0, 0],\n",
       "       [0, 0, 0, ..., 0, 0, 0],\n",
       "       [0, 0, 0, ..., 0, 0, 0],\n",
       "       [1, 1, 0, ..., 0, 0, 0]])"
      ]
     },
     "execution_count": 7,
     "metadata": {},
     "output_type": "execute_result"
    }
   ],
   "source": [
    "# 본 영화는 1, 안 본 영화는 0\n",
    "adj_matrix = np.zeros([nrows, ncols], int)\n",
    "for user_id, movie_id, _, _ in raw_data:\n",
    "    adj_matrix[user_id, movie_id] = 1\n",
    "adj_matrix[:5]"
   ]
  },
  {
   "cell_type": "code",
   "execution_count": 8,
   "id": "af3af652",
   "metadata": {},
   "outputs": [],
   "source": [
    "# 0번 데이터를 나라고 함\n",
    "my_id, my_vector = 0, adj_matrix[0]"
   ]
  },
  {
   "cell_type": "code",
   "execution_count": 9,
   "id": "014913ca",
   "metadata": {},
   "outputs": [
    {
     "data": {
      "text/plain": [
       "(71, 42)"
      ]
     },
     "execution_count": 9,
     "metadata": {},
     "output_type": "execute_result"
    }
   ],
   "source": [
    "# 유사도 - 이진 벡터의 내적\n",
    "# 나와 10번 사용자와의 유사도\n",
    "np.dot(my_vector, adj_matrix[10]), np.dot(my_vector, adj_matrix[20])"
   ]
  },
  {
   "cell_type": "code",
   "execution_count": 10,
   "id": "3ee4614f",
   "metadata": {},
   "outputs": [
    {
     "data": {
      "text/plain": [
       "(183, 275)"
      ]
     },
     "execution_count": 10,
     "metadata": {},
     "output_type": "execute_result"
    }
   ],
   "source": [
    "# 누가 나랑 닮았나?\n",
    "best_score, best_match_id = 0, 0\n",
    "for i in range(1, len(adj_matrix)):\n",
    "    dot = np.dot(my_vector, adj_matrix[i])\n",
    "    if dot > best_score:\n",
    "        best_score, best_match_id = dot, i\n",
    "        \n",
    "best_score, best_match_id"
   ]
  },
  {
   "cell_type": "code",
   "execution_count": 11,
   "id": "5694f014",
   "metadata": {},
   "outputs": [
    {
     "data": {
      "text/plain": [
       "(array([1, 1, 1, 1, 1, 1, 1, 1, 1, 1]), array([1, 0, 0, 1, 0, 0, 0, 1, 1, 0]))"
      ]
     },
     "execution_count": 11,
     "metadata": {},
     "output_type": "execute_result"
    }
   ],
   "source": [
    "best_vector = adj_matrix[best_match_id]\n",
    "my_vector[100:110], best_vector[100:110]"
   ]
  },
  {
   "cell_type": "code",
   "execution_count": 12,
   "id": "520613cc",
   "metadata": {},
   "outputs": [
    {
     "data": {
      "text/plain": [
       "(335, [272, 273, 275, 280, 281, 283, 287, 288, 289, 290])"
      ]
     },
     "execution_count": 12,
     "metadata": {},
     "output_type": "execute_result"
    }
   ],
   "source": [
    "# 내가 보지 않은 영화중에서 best_match 사용자가 본 영화 --> 추천\n",
    "recommend_list = []\n",
    "for i, (my_view, best_match_view) in enumerate(zip(my_vector, best_vector)):\n",
    "    if my_view == 0 and best_match_view == 1:\n",
    "        recommend_list.append(i)\n",
    "        \n",
    "len(recommend_list), recommend_list[:10]"
   ]
  },
  {
   "cell_type": "markdown",
   "id": "1913c93e",
   "metadata": {},
   "source": [
    "2) 평점 점수를 주는 경우"
   ]
  },
  {
   "cell_type": "code",
   "execution_count": 13,
   "id": "edfed8d4",
   "metadata": {},
   "outputs": [
    {
     "data": {
      "text/plain": [
       "array([[5, 3, 4, ..., 0, 0, 0],\n",
       "       [4, 0, 0, ..., 0, 0, 0],\n",
       "       [0, 0, 0, ..., 0, 0, 0],\n",
       "       [0, 0, 0, ..., 0, 0, 0],\n",
       "       [4, 3, 0, ..., 0, 0, 0]])"
      ]
     },
     "execution_count": 13,
     "metadata": {},
     "output_type": "execute_result"
    }
   ],
   "source": [
    "adj_matrix = np.zeros([nrows, ncols], int)\n",
    "for user_id, movie_id, rating, _ in raw_data:\n",
    "    adj_matrix[user_id, movie_id] = rating\n",
    "adj_matrix[:5]"
   ]
  },
  {
   "cell_type": "code",
   "execution_count": 14,
   "id": "3ea608f4",
   "metadata": {},
   "outputs": [
    {
     "data": {
      "text/plain": [
       "(55.06359959174482, 737)"
      ]
     },
     "execution_count": 14,
     "metadata": {},
     "output_type": "execute_result"
    }
   ],
   "source": [
    "# 누가 나랑 닮았나?\n",
    "best_score, best_match_id = 100000, 0\n",
    "my_vector = adj_matrix[0]\n",
    "for i in range(1, len(adj_matrix)):\n",
    "    euc = np.sqrt(np.sum(np.square(my_vector - adj_matrix[i])))\n",
    "    if euc < best_score:\n",
    "        best_score, best_match_id = euc, i\n",
    "        \n",
    "best_score, best_match_id"
   ]
  },
  {
   "cell_type": "code",
   "execution_count": 18,
   "id": "504b2c42",
   "metadata": {},
   "outputs": [
    {
     "data": {
      "text/plain": [
       "(21, [312, 317, 356, 384, 407, 422, 433, 454, 469, 473])"
      ]
     },
     "execution_count": 18,
     "metadata": {},
     "output_type": "execute_result"
    }
   ],
   "source": [
    "# 내가 보지 않은 영화중에서 best_match 사용자가 본 평점이 좋은 영화 --> 추천\n",
    "best_vector = adj_matrix[best_match_id]\n",
    "recommend_list = []\n",
    "for i, (my_view, best_match_view) in enumerate(zip(my_vector, best_vector)):\n",
    "    if my_view == 0 and best_match_view >= 4:\n",
    "        recommend_list.append(i)\n",
    "        \n",
    "len(recommend_list), recommend_list[:10]"
   ]
  },
  {
   "cell_type": "markdown",
   "id": "d6b2ff92",
   "metadata": {},
   "source": [
    "- Case 2: 코사인 유사도"
   ]
  },
  {
   "cell_type": "code",
   "execution_count": 19,
   "id": "083d2887",
   "metadata": {},
   "outputs": [],
   "source": [
    "def cos_similarity(v1, v2):\n",
    "    v1_norm = np.sqrt(np.sum(np.square(v1)))\n",
    "    v2_norm = np.sqrt(np.sum(np.square(v2)))\n",
    "    return np.dot(v1, v2) / (v1_norm * v2_norm)"
   ]
  },
  {
   "cell_type": "code",
   "execution_count": 21,
   "id": "71f40a3a",
   "metadata": {},
   "outputs": [
    {
     "data": {
      "text/plain": [
       "(0.569065731527988, 915)"
      ]
     },
     "execution_count": 21,
     "metadata": {},
     "output_type": "execute_result"
    }
   ],
   "source": [
    "# 누가 나랑 닮았나?\n",
    "best_score, best_match_id = -1, 0\n",
    "my_vector = adj_matrix[0]\n",
    "\n",
    "for i in range(1, len(adj_matrix)):\n",
    "    cos_sim = cos_similarity(my_vector, adj_matrix[i])\n",
    "    if cos_sim > best_score:\n",
    "        best_score, best_match_id = cos_sim, i\n",
    "        \n",
    "best_score, best_match_id"
   ]
  },
  {
   "cell_type": "code",
   "execution_count": null,
   "id": "cf883c36",
   "metadata": {},
   "outputs": [],
   "source": []
  },
  {
   "cell_type": "code",
   "execution_count": null,
   "id": "3fbb30ea",
   "metadata": {},
   "outputs": [],
   "source": []
  }
 ],
 "metadata": {
  "kernelspec": {
   "display_name": "Python 3 (ipykernel)",
   "language": "python",
   "name": "python3"
  },
  "language_info": {
   "codemirror_mode": {
    "name": "ipython",
    "version": 3
   },
   "file_extension": ".py",
   "mimetype": "text/x-python",
   "name": "python",
   "nbconvert_exporter": "python",
   "pygments_lexer": "ipython3",
   "version": "3.9.7"
  }
 },
 "nbformat": 4,
 "nbformat_minor": 5
}
